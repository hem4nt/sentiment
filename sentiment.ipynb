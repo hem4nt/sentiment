{
 "nbformat": 4,
 "nbformat_minor": 2,
 "metadata": {
  "language_info": {
   "name": "python",
   "codemirror_mode": {
    "name": "ipython",
    "version": 3
   },
   "version": "3.6.5-final"
  },
  "orig_nbformat": 2,
  "file_extension": ".py",
  "mimetype": "text/x-python",
  "name": "python",
  "npconvert_exporter": "python",
  "pygments_lexer": "ipython3",
  "version": 3,
  "kernelspec": {
   "name": "python36564bitmlenvconda82bb03d1cce24794ad9103bfd62d3bcc",
   "display_name": "Python 3.6.5 64-bit ('mlenv': conda)"
  }
 },
 "cells": [
  {
   "cell_type": "markdown",
   "metadata": {},
   "source": [
    "# Data science self learning\n",
    "## Twitter analysis\n",
    "### Try the following\n",
    "- Select food related tweets from 2 million tweets with only one word \"Dosa\"\n",
    "- Can we visualize words/ tweet\n"
   ],
   "execution_count": null,
   "outputs": []
  },
  {
   "cell_type": "markdown",
   "metadata": {},
   "source": [
    "Importing required modules"
   ]
  },
  {
   "cell_type": "code",
   "execution_count": 103,
   "metadata": {},
   "outputs": [],
   "source": [
    "import numpy as np\n",
    "import pandas as pd\n",
    "import seaborn as sns\n",
    "import keras\n",
    "import nltk\n",
    "import gensim\n",
    "from gensim.models import word2vec\n",
    "import sys\n",
    "import joblib\n",
    "import gc\n",
    "from sklearn.decomposition import PCA\n",
    "import matplotlib.pyplot as plt\n",
    "import pickle\n",
    "import sklearn\n",
    "from sklearn.cluster import KMeans\n",
    "from sklearn.decomposition import PCA\n",
    "from sklearn.preprocessing import scale, normalize\n",
    "W2V_LOAD_FROM_FILE =True\n",
    "WORD_ARRAY_LOAD_FROM_FILE =True\n",
    "VERBOSE = 10\n",
    "from IPython.display import IFrame, HTML, Image"
   ]
  },
  {
   "cell_type": "code",
   "execution_count": null,
   "metadata": {},
   "outputs": [],
   "source": [
    "%matplotlib inline\n",
    "sns.set()\n",
    "# plt.rcParams['figure.figsize'] = (12,8)"
   ]
  },
  {
   "cell_type": "code",
   "execution_count": null,
   "metadata": {},
   "outputs": [],
   "source": [
    "# custom log function for debugging\n",
    "def log(msg, level = 0):\n",
    "    if VERBOSE>0:\n",
    "        print(msg)\n",
    "        # print('\\a')"
   ]
  },
  {
   "cell_type": "markdown",
   "metadata": {},
   "source": [
    "## Preparing the data, preprocessing/ loading the saved models"
   ],
   "execution_count": null,
   "outputs": []
  },
  {
   "cell_type": "code",
   "execution_count": null,
   "metadata": {},
   "outputs": [],
   "source": [
    "\n",
    "if WORD_ARRAY_LOAD_FROM_FILE:\n",
    "    log(\"Loading the already tokenized words from file\")\n",
    "    with open('words.pkl','rb')as f:words = pickle.load(f)\n",
    "else:\n",
    "    log(\"Opening the raw tet file\")\n",
    "    with open('data/texts/final/en_US/en_US.twitter.txt', 'r') as f:\n",
    "        txt = f.read()\n",
    "    sen = nltk.sent_tokenize(txt)\n",
    "    words = [nltk.word_tokenize(x) for x in sen]\n",
    "    log(\"saving the tokenized words\")\n",
    "    with open('words.pkl','wb')as f:pickle.dump(words,f)\n",
    "\n",
    "\n",
    "if W2V_LOAD_FROM_FILE:\n",
    "    log(\"Loading the already trained w2v model from file\")\n",
    "    with open('wv_model.pkl','rb') as f: wv_model = pickle.load(f)\n",
    "else:\n",
    "    log(\"Creating the w2v model from tokens\")\n",
    "    wv_model = word2vec.Word2Vec(words,min_count=1)\n",
    "    if True:\n",
    "        log(\"Saving the trained w2v model to file\")\n",
    "        with open('wv_model.pkl', 'wb') as f:\n",
    "            pickle.dump(wv_model,f)\n",
    ""
   ]
  },
  {
   "cell_type": "code",
   "execution_count": null,
   "metadata": {},
   "outputs": [],
   "source": [
    "log(\"creating a data frame\")\n",
    "df = pd.DataFrame({'words':words})"
   ]
  },
  {
   "cell_type": "code",
   "execution_count": 104,
   "metadata": {},
   "outputs": [
    {
     "output_type": "stream",
     "name": "stdout",
     "text": "Some visualization\n"
    },
    {
     "output_type": "error",
     "ename": "KeyError",
     "evalue": "'wordlen'",
     "traceback": [
      "\u001b[0;31m---------------------------------------------------------------------------\u001b[0m",
      "\u001b[0;31mKeyError\u001b[0m                                  Traceback (most recent call last)",
      "\u001b[0;32m~/anaconda3/envs/mlenv/lib/python3.6/site-packages/pandas/core/indexes/base.py\u001b[0m in \u001b[0;36mget_loc\u001b[0;34m(self, key, method, tolerance)\u001b[0m\n\u001b[1;32m   2645\u001b[0m             \u001b[0;32mtry\u001b[0m\u001b[0;34m:\u001b[0m\u001b[0;34m\u001b[0m\u001b[0m\n\u001b[0;32m-> 2646\u001b[0;31m                 \u001b[0;32mreturn\u001b[0m \u001b[0mself\u001b[0m\u001b[0;34m.\u001b[0m\u001b[0m_engine\u001b[0m\u001b[0;34m.\u001b[0m\u001b[0mget_loc\u001b[0m\u001b[0;34m(\u001b[0m\u001b[0mkey\u001b[0m\u001b[0;34m)\u001b[0m\u001b[0;34m\u001b[0m\u001b[0m\n\u001b[0m\u001b[1;32m   2647\u001b[0m             \u001b[0;32mexcept\u001b[0m \u001b[0mKeyError\u001b[0m\u001b[0;34m:\u001b[0m\u001b[0;34m\u001b[0m\u001b[0m\n",
      "\u001b[0;32mpandas/_libs/index.pyx\u001b[0m in \u001b[0;36mpandas._libs.index.IndexEngine.get_loc\u001b[0;34m()\u001b[0m\n",
      "\u001b[0;32mpandas/_libs/index.pyx\u001b[0m in \u001b[0;36mpandas._libs.index.IndexEngine.get_loc\u001b[0;34m()\u001b[0m\n",
      "\u001b[0;32mpandas/_libs/hashtable_class_helper.pxi\u001b[0m in \u001b[0;36mpandas._libs.hashtable.PyObjectHashTable.get_item\u001b[0;34m()\u001b[0m\n",
      "\u001b[0;32mpandas/_libs/hashtable_class_helper.pxi\u001b[0m in \u001b[0;36mpandas._libs.hashtable.PyObjectHashTable.get_item\u001b[0;34m()\u001b[0m\n",
      "\u001b[0;31mKeyError\u001b[0m: 'wordlen'",
      "\nDuring handling of the above exception, another exception occurred:\n",
      "\u001b[0;31mKeyError\u001b[0m                                  Traceback (most recent call last)",
      "\u001b[0;32m<ipython-input-104-30f1ff52308b>\u001b[0m in \u001b[0;36m<module>\u001b[0;34m\u001b[0m\n\u001b[1;32m      1\u001b[0m \u001b[0mlog\u001b[0m\u001b[0;34m(\u001b[0m\u001b[0;34m\"Some visualization\"\u001b[0m\u001b[0;34m)\u001b[0m\u001b[0;34m\u001b[0m\u001b[0m\n\u001b[1;32m      2\u001b[0m \u001b[0msns\u001b[0m\u001b[0;34m.\u001b[0m\u001b[0mdistplot\u001b[0m\u001b[0;34m(\u001b[0m\u001b[0mdf_sample\u001b[0m\u001b[0;34m.\u001b[0m\u001b[0mloc\u001b[0m\u001b[0;34m[\u001b[0m\u001b[0mdf_sample\u001b[0m\u001b[0;34m[\u001b[0m\u001b[0;34m'wordlen'\u001b[0m\u001b[0;34m]\u001b[0m\u001b[0;34m<\u001b[0m\u001b[0;36m100\u001b[0m\u001b[0;34m]\u001b[0m\u001b[0;34m[\u001b[0m\u001b[0;34m'wordlen'\u001b[0m\u001b[0;34m]\u001b[0m\u001b[0;34m,\u001b[0m \u001b[0mrug\u001b[0m  \u001b[0;34m=\u001b[0m\u001b[0;32mTrue\u001b[0m\u001b[0;34m)\u001b[0m\u001b[0;34m\u001b[0m\u001b[0m\n\u001b[0;32m----> 3\u001b[0;31m \u001b[0mnp\u001b[0m\u001b[0;34m.\u001b[0m\u001b[0mmax\u001b[0m\u001b[0;34m(\u001b[0m\u001b[0mdf\u001b[0m\u001b[0;34m[\u001b[0m\u001b[0;34m'wordlen'\u001b[0m\u001b[0;34m]\u001b[0m\u001b[0;34m)\u001b[0m\u001b[0;34m\u001b[0m\u001b[0m\n\u001b[0m",
      "\u001b[0;32m~/anaconda3/envs/mlenv/lib/python3.6/site-packages/pandas/core/frame.py\u001b[0m in \u001b[0;36m__getitem__\u001b[0;34m(self, key)\u001b[0m\n\u001b[1;32m   2798\u001b[0m             \u001b[0;32mif\u001b[0m \u001b[0mself\u001b[0m\u001b[0;34m.\u001b[0m\u001b[0mcolumns\u001b[0m\u001b[0;34m.\u001b[0m\u001b[0mnlevels\u001b[0m \u001b[0;34m>\u001b[0m \u001b[0;36m1\u001b[0m\u001b[0;34m:\u001b[0m\u001b[0;34m\u001b[0m\u001b[0m\n\u001b[1;32m   2799\u001b[0m                 \u001b[0;32mreturn\u001b[0m \u001b[0mself\u001b[0m\u001b[0;34m.\u001b[0m\u001b[0m_getitem_multilevel\u001b[0m\u001b[0;34m(\u001b[0m\u001b[0mkey\u001b[0m\u001b[0;34m)\u001b[0m\u001b[0;34m\u001b[0m\u001b[0m\n\u001b[0;32m-> 2800\u001b[0;31m             \u001b[0mindexer\u001b[0m \u001b[0;34m=\u001b[0m \u001b[0mself\u001b[0m\u001b[0;34m.\u001b[0m\u001b[0mcolumns\u001b[0m\u001b[0;34m.\u001b[0m\u001b[0mget_loc\u001b[0m\u001b[0;34m(\u001b[0m\u001b[0mkey\u001b[0m\u001b[0;34m)\u001b[0m\u001b[0;34m\u001b[0m\u001b[0m\n\u001b[0m\u001b[1;32m   2801\u001b[0m             \u001b[0;32mif\u001b[0m \u001b[0mis_integer\u001b[0m\u001b[0;34m(\u001b[0m\u001b[0mindexer\u001b[0m\u001b[0;34m)\u001b[0m\u001b[0;34m:\u001b[0m\u001b[0;34m\u001b[0m\u001b[0m\n\u001b[1;32m   2802\u001b[0m                 \u001b[0mindexer\u001b[0m \u001b[0;34m=\u001b[0m \u001b[0;34m[\u001b[0m\u001b[0mindexer\u001b[0m\u001b[0;34m]\u001b[0m\u001b[0;34m\u001b[0m\u001b[0m\n",
      "\u001b[0;32m~/anaconda3/envs/mlenv/lib/python3.6/site-packages/pandas/core/indexes/base.py\u001b[0m in \u001b[0;36mget_loc\u001b[0;34m(self, key, method, tolerance)\u001b[0m\n\u001b[1;32m   2646\u001b[0m                 \u001b[0;32mreturn\u001b[0m \u001b[0mself\u001b[0m\u001b[0;34m.\u001b[0m\u001b[0m_engine\u001b[0m\u001b[0;34m.\u001b[0m\u001b[0mget_loc\u001b[0m\u001b[0;34m(\u001b[0m\u001b[0mkey\u001b[0m\u001b[0;34m)\u001b[0m\u001b[0;34m\u001b[0m\u001b[0m\n\u001b[1;32m   2647\u001b[0m             \u001b[0;32mexcept\u001b[0m \u001b[0mKeyError\u001b[0m\u001b[0;34m:\u001b[0m\u001b[0;34m\u001b[0m\u001b[0m\n\u001b[0;32m-> 2648\u001b[0;31m                 \u001b[0;32mreturn\u001b[0m \u001b[0mself\u001b[0m\u001b[0;34m.\u001b[0m\u001b[0m_engine\u001b[0m\u001b[0;34m.\u001b[0m\u001b[0mget_loc\u001b[0m\u001b[0;34m(\u001b[0m\u001b[0mself\u001b[0m\u001b[0;34m.\u001b[0m\u001b[0m_maybe_cast_indexer\u001b[0m\u001b[0;34m(\u001b[0m\u001b[0mkey\u001b[0m\u001b[0;34m)\u001b[0m\u001b[0;34m)\u001b[0m\u001b[0;34m\u001b[0m\u001b[0m\n\u001b[0m\u001b[1;32m   2649\u001b[0m         \u001b[0mindexer\u001b[0m \u001b[0;34m=\u001b[0m \u001b[0mself\u001b[0m\u001b[0;34m.\u001b[0m\u001b[0mget_indexer\u001b[0m\u001b[0;34m(\u001b[0m\u001b[0;34m[\u001b[0m\u001b[0mkey\u001b[0m\u001b[0;34m]\u001b[0m\u001b[0;34m,\u001b[0m \u001b[0mmethod\u001b[0m\u001b[0;34m=\u001b[0m\u001b[0mmethod\u001b[0m\u001b[0;34m,\u001b[0m \u001b[0mtolerance\u001b[0m\u001b[0;34m=\u001b[0m\u001b[0mtolerance\u001b[0m\u001b[0;34m)\u001b[0m\u001b[0;34m\u001b[0m\u001b[0m\n\u001b[1;32m   2650\u001b[0m         \u001b[0;32mif\u001b[0m \u001b[0mindexer\u001b[0m\u001b[0;34m.\u001b[0m\u001b[0mndim\u001b[0m \u001b[0;34m>\u001b[0m \u001b[0;36m1\u001b[0m \u001b[0;32mor\u001b[0m \u001b[0mindexer\u001b[0m\u001b[0;34m.\u001b[0m\u001b[0msize\u001b[0m \u001b[0;34m>\u001b[0m \u001b[0;36m1\u001b[0m\u001b[0;34m:\u001b[0m\u001b[0;34m\u001b[0m\u001b[0m\n",
      "\u001b[0;32mpandas/_libs/index.pyx\u001b[0m in \u001b[0;36mpandas._libs.index.IndexEngine.get_loc\u001b[0;34m()\u001b[0m\n",
      "\u001b[0;32mpandas/_libs/index.pyx\u001b[0m in \u001b[0;36mpandas._libs.index.IndexEngine.get_loc\u001b[0;34m()\u001b[0m\n",
      "\u001b[0;32mpandas/_libs/hashtable_class_helper.pxi\u001b[0m in \u001b[0;36mpandas._libs.hashtable.PyObjectHashTable.get_item\u001b[0;34m()\u001b[0m\n",
      "\u001b[0;32mpandas/_libs/hashtable_class_helper.pxi\u001b[0m in \u001b[0;36mpandas._libs.hashtable.PyObjectHashTable.get_item\u001b[0;34m()\u001b[0m\n",
      "\u001b[0;31mKeyError\u001b[0m: 'wordlen'"
     ]
    }
   ],
   "source": [
    "log(\"Some visualization\")\n",
    "sns.distplot(df_sample.loc[df_sample['wordlen']<100]['wordlen'], rug  =True)\n",
    "np.max(df['wordlen'])"
   ]
  },
  {
   "cell_type": "code",
   "execution_count": 90,
   "metadata": {
    "tags": [
     "outputPrepend",
     "outputPrepend",
     "outputPrepend",
     "outputPrepend",
     "outputPrepend",
     "outputPrepend",
     "outputPrepend",
     "outputPrepend",
     "outputPrepend",
     "outputPrepend",
     "outputPrepend",
     "outputPrepend",
     "outputPrepend",
     "outputPrepend",
     "outputPrepend",
     "outputPrepend",
     "outputPrepend",
     "outputPrepend",
     "outputPrepend",
     "outputPrepend",
     "outputPrepend",
     "outputPrepend",
     "outputPrepend",
     "outputPrepend",
     "outputPrepend",
     "outputPrepend",
     "outputPrepend",
     "outputPrepend",
     "outputPrepend",
     "outputPrepend",
     "outputPrepend",
     "outputPrepend",
     "outputPrepend",
     "outputPrepend",
     "outputPrepend"
    ]
   },
   "outputs": [
    {
     "output_type": "stream",
     "name": "stdout",
     "text": "Taking a sample of 100000 rows for the time being\ncalculating the word length per row\ncalculating the bag of words vector total for each row\n"
    }
   ],
   "source": [
    "def do_stuff_1(df):\n",
    "    log(\"calculating the word length per row\")\n",
    "    df['wordlen'] = [len(x) for x in df['words']]\n",
    "    log(\"calculating the bag of words vector total for each row\")\n",
    "    wt=[]\n",
    "    for row in df['words']:\n",
    "        wt.append(np.sum([wv_model.wv[word] for word in row],axis = 0))\n",
    "    try:\n",
    "        df['wv_total']  =wt\n",
    "        df = df.reset_index()\n",
    "    except:\n",
    "        raise\n",
    "    return df\n",
    "log(\"Taking a sample of 100000 rows for the time being\")\n",
    "df_sample = df.sample(1000000)\n",
    "df_sample = do_stuff_1(df_sample)\n",
    ""
   ]
  },
  {
   "cell_type": "markdown",
   "metadata": {},
   "source": [
    "##  Trying to visualise the total word vector (bag of words) per tweet"
   ],
   "execution_count": null,
   "outputs": []
  },
  {
   "cell_type": "code",
   "execution_count": 91,
   "metadata": {},
   "outputs": [
    {
     "output_type": "display_data",
     "data": {
      "text/plain": "<Figure size 432x288 with 1 Axes>",
      "image/svg+xml": "<?xml version=\"1.0\" encoding=\"utf-8\" standalone=\"no\"?>\n<!DOCTYPE svg PUBLIC \"-//W3C//DTD SVG 1.1//EN\"\n  \"http://www.w3.org/Graphics/SVG/1.1/DTD/svg11.dtd\">\n<!-- Created with matplotlib (https://matplotlib.org/) -->\n<svg height=\"280.785937pt\" version=\"1.1\" viewBox=\"0 0 853.71075 280.785937\" width=\"853.71075pt\" xmlns=\"http://www.w3.org/2000/svg\" xmlns:xlink=\"http://www.w3.org/1999/xlink\">\n <defs>\n  <style type=\"text/css\">\n*{stroke-linecap:butt;stroke-linejoin:round;}\n  </style>\n </defs>\n <g id=\"figure_1\">\n  <g id=\"patch_1\">\n   <path d=\"M 0 280.785937 \nL 853.71075 280.785937 \nL 853.71075 0 \nL 0 0 \nz\n\" style=\"fill:#ffffff;\"/>\n  </g>\n  <g id=\"axes_1\">\n   <g id=\"patch_2\">\n    <path d=\"M 323.535375 253.44 \nL 540.975375 253.44 \nL 540.975375 36 \nL 323.535375 36 \nz\n\" style=\"fill:#eaeaf2;\"/>\n   </g>\n   <g clip-path=\"url(#pb6e9933425)\">\n    <image height=\"218\" id=\"image1696186004\" transform=\"scale(1 -1)translate(0 -218)\" width=\"217\" x=\"324\" xlink:href=\"data:image/png;base64,\niVBORw0KGgoAAAANSUhEUgAAANkAAADaCAYAAAArKufYAAAABHNCSVQICAgIfAhkiAAABNFJREFUeJzt3LGLCP4fx/HP/Thd1DEpSm6TQbjFogyG2/wDyo7iBjIY/AsU/4GNRWJRymC4lLoMZ3AGkxw3GCQD3/m3f57b4/EHvKbPs/f2Wbhx48a/EdjZ2Slmx9mzZ6dvfv78efrmGGMsLi4mu5cvX052l5eXk92HDx9O3zx27Nj0zTHGePny5fTN/01fBP6PyCAmMoiJDGIig5jIICYyiIkMYiKDmMggJjKIiQxiIoOYyCAmMoiJDGIig5jIICYyiIkMYiKD2MKlS5eS36rOnz9fzI579+5N37x9+/b0zTHGWFpaSnbfv3+f7K6uria7J0+enL759evX6ZtjjHHx4sXpmy4ZxEQGMZFBTGQQExnERAYxkUFMZBATGcREBjGRQUxkEBMZxEQGMZFBTGQQExnERAYxkUFMZBATGcT2vn79Ohn++/dvsru+vj5989u3b9M3xxjj8OHDye7m5maye+DAgWT39OnT0zdPnDgxfXOMMba3t6dvumQQExnERAYxkUFMZBATGcREBjGRQUxkEBMZxEQGMZFBTGQQExnERAYxkUFMZBATGcREBjGRQWzhzp07/4rhffv2FbNjeXl5+ubGxsb0zTHGePDgQbJ79OjRZHd1dTXZvXbt2vTNN2/eTN8cY4yrV69O33TJICYyiIkMYiKDmMggJjKIiQxiIoOYyCAmMoiJDGIig5jIICYyiIkMYiKDmMggJjKIiQxiIoOYyCC2sLW1lfxW9eXLl2J2vHjxYvrm1tbW9M0xxvj161ey+/bt22T32bNnyW7xFk6dOjV9c4wxHj9+PH3TJYOYyCAmMoiJDGIig5jIICYyiIkMYiKDmMggJjKIiQxiIoOYyCAmMoiJDGIig5jIICYyiIkMYiKD2MLHjx+T36p+/vxZzI4fP35M36x+Prp7926yu7a2luweOnQo2X369On0zeIdjDHGwYMHp2+6ZBATGcREBjGRQUxkEBMZxEQGMZFBTGQQExnERAYxkUFMZBATGcREBjGRQUxkEBMZxEQGMZFBTGQQ27uxsZEMLy4uJrvFL1j379+fvjnGGLu7u8nunz9/kt3V1dVkd2VlZfrm0tLS9M0xxtizZ8/0TZcMYiKDmMggJjKIiQxiIoOYyCAmMoiJDGIig5jIICYyiIkMYiKDmMggJjKIiQxiIoOYyCAmMoiJDGIL79+//1cMP3nypJgdv3//nr756tWr6ZtjjHHhwoVk9/v378nuu3fvkt0rV65M3zx+/Pj0zTHGePTo0fRNlwxiIoOYyCAmMoiJDGIig5jIICYyiIkMYiKDmMggJjKIiQxiIoOYyCAmMoiJDGIig5jIICYyiO1dX19PhtfW1pLd5eXl6Zv79++fvlnuPn/+PNm9fv16srtv377pm0eOHJm+OcYYOzs70zddMoiJDGIig5jIICYyiIkMYiKDmMggJjKIiQxiIoOYyCAmMoiJDGIig5jIICYyiIkMYiKDmMggJjKILWxvb/8rhs+cOVPMjps3b07fPHfu3PTNMcb48OFDsruyspLsfvr0Kdnd3d2dvrm5uTl9c4wxbt26NX3TJYOYyCAmMoiJDGIig5jIICYyiIkMYiKDmMggJjKIiQxiIoOYyCAmMoiJDGIig5jIICYyiIkMYiKD2H9JQJy1jrBE7wAAAABJRU5ErkJggg==\" y=\"-35.785937\"/>\n   </g>\n   <g id=\"matplotlib.axis_1\">\n    <g id=\"xtick_1\">\n     <g id=\"line2d_1\">\n      <path clip-path=\"url(#pb6e9933425)\" d=\"M 334.407375 253.44 \nL 334.407375 36 \n\" style=\"fill:none;stroke:#ffffff;stroke-linecap:round;\"/>\n     </g>\n     <g id=\"text_1\">\n      <!-- 0 -->\n      <defs>\n       <path d=\"M 31.78125 66.40625 \nQ 24.171875 66.40625 20.328125 58.90625 \nQ 16.5 51.421875 16.5 36.375 \nQ 16.5 21.390625 20.328125 13.890625 \nQ 24.171875 6.390625 31.78125 6.390625 \nQ 39.453125 6.390625 43.28125 13.890625 \nQ 47.125 21.390625 47.125 36.375 \nQ 47.125 51.421875 43.28125 58.90625 \nQ 39.453125 66.40625 31.78125 66.40625 \nz\nM 31.78125 74.21875 \nQ 44.046875 74.21875 50.515625 64.515625 \nQ 56.984375 54.828125 56.984375 36.375 \nQ 56.984375 17.96875 50.515625 8.265625 \nQ 44.046875 -1.421875 31.78125 -1.421875 \nQ 19.53125 -1.421875 13.0625 8.265625 \nQ 6.59375 17.96875 6.59375 36.375 \nQ 6.59375 54.828125 13.0625 64.515625 \nQ 19.53125 74.21875 31.78125 74.21875 \nz\n\" id=\"DejaVuSans-48\"/>\n      </defs>\n      <g style=\"fill:#262626;\" transform=\"translate(330.908 271.298281)scale(0.11 -0.11)\">\n       <use xlink:href=\"#DejaVuSans-48\"/>\n      </g>\n     </g>\n    </g>\n    <g id=\"xtick_2\">\n     <g id=\"line2d_2\">\n      <path clip-path=\"url(#pb6e9933425)\" d=\"M 377.895375 253.44 \nL 377.895375 36 \n\" style=\"fill:none;stroke:#ffffff;stroke-linecap:round;\"/>\n     </g>\n     <g id=\"text_2\">\n      <!-- 2 -->\n      <defs>\n       <path d=\"M 19.1875 8.296875 \nL 53.609375 8.296875 \nL 53.609375 0 \nL 7.328125 0 \nL 7.328125 8.296875 \nQ 12.9375 14.109375 22.625 23.890625 \nQ 32.328125 33.6875 34.8125 36.53125 \nQ 39.546875 41.84375 41.421875 45.53125 \nQ 43.3125 49.21875 43.3125 52.78125 \nQ 43.3125 58.59375 39.234375 62.25 \nQ 35.15625 65.921875 28.609375 65.921875 \nQ 23.96875 65.921875 18.8125 64.3125 \nQ 13.671875 62.703125 7.8125 59.421875 \nL 7.8125 69.390625 \nQ 13.765625 71.78125 18.9375 73 \nQ 24.125 74.21875 28.421875 74.21875 \nQ 39.75 74.21875 46.484375 68.546875 \nQ 53.21875 62.890625 53.21875 53.421875 \nQ 53.21875 48.921875 51.53125 44.890625 \nQ 49.859375 40.875 45.40625 35.40625 \nQ 44.1875 33.984375 37.640625 27.21875 \nQ 31.109375 20.453125 19.1875 8.296875 \nz\n\" id=\"DejaVuSans-50\"/>\n      </defs>\n      <g style=\"fill:#262626;\" transform=\"translate(374.396 271.298281)scale(0.11 -0.11)\">\n       <use xlink:href=\"#DejaVuSans-50\"/>\n      </g>\n     </g>\n    </g>\n    <g id=\"xtick_3\">\n     <g id=\"line2d_3\">\n      <path clip-path=\"url(#pb6e9933425)\" d=\"M 421.383375 253.44 \nL 421.383375 36 \n\" style=\"fill:none;stroke:#ffffff;stroke-linecap:round;\"/>\n     </g>\n     <g id=\"text_3\">\n      <!-- 4 -->\n      <defs>\n       <path d=\"M 37.796875 64.3125 \nL 12.890625 25.390625 \nL 37.796875 25.390625 \nz\nM 35.203125 72.90625 \nL 47.609375 72.90625 \nL 47.609375 25.390625 \nL 58.015625 25.390625 \nL 58.015625 17.1875 \nL 47.609375 17.1875 \nL 47.609375 0 \nL 37.796875 0 \nL 37.796875 17.1875 \nL 4.890625 17.1875 \nL 4.890625 26.703125 \nz\n\" id=\"DejaVuSans-52\"/>\n      </defs>\n      <g style=\"fill:#262626;\" transform=\"translate(417.884 271.298281)scale(0.11 -0.11)\">\n       <use xlink:href=\"#DejaVuSans-52\"/>\n      </g>\n     </g>\n    </g>\n    <g id=\"xtick_4\">\n     <g id=\"line2d_4\">\n      <path clip-path=\"url(#pb6e9933425)\" d=\"M 464.871375 253.44 \nL 464.871375 36 \n\" style=\"fill:none;stroke:#ffffff;stroke-linecap:round;\"/>\n     </g>\n     <g id=\"text_4\">\n      <!-- 6 -->\n      <defs>\n       <path d=\"M 33.015625 40.375 \nQ 26.375 40.375 22.484375 35.828125 \nQ 18.609375 31.296875 18.609375 23.390625 \nQ 18.609375 15.53125 22.484375 10.953125 \nQ 26.375 6.390625 33.015625 6.390625 \nQ 39.65625 6.390625 43.53125 10.953125 \nQ 47.40625 15.53125 47.40625 23.390625 \nQ 47.40625 31.296875 43.53125 35.828125 \nQ 39.65625 40.375 33.015625 40.375 \nz\nM 52.59375 71.296875 \nL 52.59375 62.3125 \nQ 48.875 64.0625 45.09375 64.984375 \nQ 41.3125 65.921875 37.59375 65.921875 \nQ 27.828125 65.921875 22.671875 59.328125 \nQ 17.53125 52.734375 16.796875 39.40625 \nQ 19.671875 43.65625 24.015625 45.921875 \nQ 28.375 48.1875 33.59375 48.1875 \nQ 44.578125 48.1875 50.953125 41.515625 \nQ 57.328125 34.859375 57.328125 23.390625 \nQ 57.328125 12.15625 50.6875 5.359375 \nQ 44.046875 -1.421875 33.015625 -1.421875 \nQ 20.359375 -1.421875 13.671875 8.265625 \nQ 6.984375 17.96875 6.984375 36.375 \nQ 6.984375 53.65625 15.1875 63.9375 \nQ 23.390625 74.21875 37.203125 74.21875 \nQ 40.921875 74.21875 44.703125 73.484375 \nQ 48.484375 72.75 52.59375 71.296875 \nz\n\" id=\"DejaVuSans-54\"/>\n      </defs>\n      <g style=\"fill:#262626;\" transform=\"translate(461.372 271.298281)scale(0.11 -0.11)\">\n       <use xlink:href=\"#DejaVuSans-54\"/>\n      </g>\n     </g>\n    </g>\n    <g id=\"xtick_5\">\n     <g id=\"line2d_5\">\n      <path clip-path=\"url(#pb6e9933425)\" d=\"M 508.359375 253.44 \nL 508.359375 36 \n\" style=\"fill:none;stroke:#ffffff;stroke-linecap:round;\"/>\n     </g>\n     <g id=\"text_5\">\n      <!-- 8 -->\n      <defs>\n       <path d=\"M 31.78125 34.625 \nQ 24.75 34.625 20.71875 30.859375 \nQ 16.703125 27.09375 16.703125 20.515625 \nQ 16.703125 13.921875 20.71875 10.15625 \nQ 24.75 6.390625 31.78125 6.390625 \nQ 38.8125 6.390625 42.859375 10.171875 \nQ 46.921875 13.96875 46.921875 20.515625 \nQ 46.921875 27.09375 42.890625 30.859375 \nQ 38.875 34.625 31.78125 34.625 \nz\nM 21.921875 38.8125 \nQ 15.578125 40.375 12.03125 44.71875 \nQ 8.5 49.078125 8.5 55.328125 \nQ 8.5 64.0625 14.71875 69.140625 \nQ 20.953125 74.21875 31.78125 74.21875 \nQ 42.671875 74.21875 48.875 69.140625 \nQ 55.078125 64.0625 55.078125 55.328125 \nQ 55.078125 49.078125 51.53125 44.71875 \nQ 48 40.375 41.703125 38.8125 \nQ 48.828125 37.15625 52.796875 32.3125 \nQ 56.78125 27.484375 56.78125 20.515625 \nQ 56.78125 9.90625 50.3125 4.234375 \nQ 43.84375 -1.421875 31.78125 -1.421875 \nQ 19.734375 -1.421875 13.25 4.234375 \nQ 6.78125 9.90625 6.78125 20.515625 \nQ 6.78125 27.484375 10.78125 32.3125 \nQ 14.796875 37.15625 21.921875 38.8125 \nz\nM 18.3125 54.390625 \nQ 18.3125 48.734375 21.84375 45.5625 \nQ 25.390625 42.390625 31.78125 42.390625 \nQ 38.140625 42.390625 41.71875 45.5625 \nQ 45.3125 48.734375 45.3125 54.390625 \nQ 45.3125 60.0625 41.71875 63.234375 \nQ 38.140625 66.40625 31.78125 66.40625 \nQ 25.390625 66.40625 21.84375 63.234375 \nQ 18.3125 60.0625 18.3125 54.390625 \nz\n\" id=\"DejaVuSans-56\"/>\n      </defs>\n      <g style=\"fill:#262626;\" transform=\"translate(504.86 271.298281)scale(0.11 -0.11)\">\n       <use xlink:href=\"#DejaVuSans-56\"/>\n      </g>\n     </g>\n    </g>\n   </g>\n   <g id=\"matplotlib.axis_2\">\n    <g id=\"ytick_1\">\n     <g id=\"line2d_6\">\n      <path clip-path=\"url(#pb6e9933425)\" d=\"M 323.535375 46.872 \nL 540.975375 46.872 \n\" style=\"fill:none;stroke:#ffffff;stroke-linecap:round;\"/>\n     </g>\n     <g id=\"text_6\">\n      <!-- 0 -->\n      <g style=\"fill:#262626;\" transform=\"translate(307.036625 51.051141)scale(0.11 -0.11)\">\n       <use xlink:href=\"#DejaVuSans-48\"/>\n      </g>\n     </g>\n    </g>\n    <g id=\"ytick_2\">\n     <g id=\"line2d_7\">\n      <path clip-path=\"url(#pb6e9933425)\" d=\"M 323.535375 90.36 \nL 540.975375 90.36 \n\" style=\"fill:none;stroke:#ffffff;stroke-linecap:round;\"/>\n     </g>\n     <g id=\"text_7\">\n      <!-- 2 -->\n      <g style=\"fill:#262626;\" transform=\"translate(307.036625 94.539141)scale(0.11 -0.11)\">\n       <use xlink:href=\"#DejaVuSans-50\"/>\n      </g>\n     </g>\n    </g>\n    <g id=\"ytick_3\">\n     <g id=\"line2d_8\">\n      <path clip-path=\"url(#pb6e9933425)\" d=\"M 323.535375 133.848 \nL 540.975375 133.848 \n\" style=\"fill:none;stroke:#ffffff;stroke-linecap:round;\"/>\n     </g>\n     <g id=\"text_8\">\n      <!-- 4 -->\n      <g style=\"fill:#262626;\" transform=\"translate(307.036625 138.027141)scale(0.11 -0.11)\">\n       <use xlink:href=\"#DejaVuSans-52\"/>\n      </g>\n     </g>\n    </g>\n    <g id=\"ytick_4\">\n     <g id=\"line2d_9\">\n      <path clip-path=\"url(#pb6e9933425)\" d=\"M 323.535375 177.336 \nL 540.975375 177.336 \n\" style=\"fill:none;stroke:#ffffff;stroke-linecap:round;\"/>\n     </g>\n     <g id=\"text_9\">\n      <!-- 6 -->\n      <g style=\"fill:#262626;\" transform=\"translate(307.036625 181.515141)scale(0.11 -0.11)\">\n       <use xlink:href=\"#DejaVuSans-54\"/>\n      </g>\n     </g>\n    </g>\n    <g id=\"ytick_5\">\n     <g id=\"line2d_10\">\n      <path clip-path=\"url(#pb6e9933425)\" d=\"M 323.535375 220.824 \nL 540.975375 220.824 \n\" style=\"fill:none;stroke:#ffffff;stroke-linecap:round;\"/>\n     </g>\n     <g id=\"text_10\">\n      <!-- 8 -->\n      <g style=\"fill:#262626;\" transform=\"translate(307.036625 225.003141)scale(0.11 -0.11)\">\n       <use xlink:href=\"#DejaVuSans-56\"/>\n      </g>\n     </g>\n    </g>\n   </g>\n   <g id=\"patch_3\">\n    <path d=\"M 323.535375 253.44 \nL 323.535375 36 \n\" style=\"fill:none;stroke:#ffffff;stroke-linecap:square;stroke-linejoin:miter;stroke-width:1.25;\"/>\n   </g>\n   <g id=\"patch_4\">\n    <path d=\"M 540.975375 253.44 \nL 540.975375 36 \n\" style=\"fill:none;stroke:#ffffff;stroke-linecap:square;stroke-linejoin:miter;stroke-width:1.25;\"/>\n   </g>\n   <g id=\"patch_5\">\n    <path d=\"M 323.535375 253.44 \nL 540.975375 253.44 \n\" style=\"fill:none;stroke:#ffffff;stroke-linecap:square;stroke-linejoin:miter;stroke-width:1.25;\"/>\n   </g>\n   <g id=\"patch_6\">\n    <path d=\"M 323.535375 36 \nL 540.975375 36 \n\" style=\"fill:none;stroke:#ffffff;stroke-linecap:square;stroke-linejoin:miter;stroke-width:1.25;\"/>\n   </g>\n  </g>\n  <g id=\"text_11\">\n   <!-- love your show just wish it stayed on longer yes ... that shit is a joke We might accept fakes : ) Come by next week ! -->\n   <defs>\n    <path d=\"M 9.421875 75.984375 \nL 18.40625 75.984375 \nL 18.40625 0 \nL 9.421875 0 \nz\n\" id=\"DejaVuSans-108\"/>\n    <path d=\"M 30.609375 48.390625 \nQ 23.390625 48.390625 19.1875 42.75 \nQ 14.984375 37.109375 14.984375 27.296875 \nQ 14.984375 17.484375 19.15625 11.84375 \nQ 23.34375 6.203125 30.609375 6.203125 \nQ 37.796875 6.203125 41.984375 11.859375 \nQ 46.1875 17.53125 46.1875 27.296875 \nQ 46.1875 37.015625 41.984375 42.703125 \nQ 37.796875 48.390625 30.609375 48.390625 \nz\nM 30.609375 56 \nQ 42.328125 56 49.015625 48.375 \nQ 55.71875 40.765625 55.71875 27.296875 \nQ 55.71875 13.875 49.015625 6.21875 \nQ 42.328125 -1.421875 30.609375 -1.421875 \nQ 18.84375 -1.421875 12.171875 6.21875 \nQ 5.515625 13.875 5.515625 27.296875 \nQ 5.515625 40.765625 12.171875 48.375 \nQ 18.84375 56 30.609375 56 \nz\n\" id=\"DejaVuSans-111\"/>\n    <path d=\"M 2.984375 54.6875 \nL 12.5 54.6875 \nL 29.59375 8.796875 \nL 46.6875 54.6875 \nL 56.203125 54.6875 \nL 35.6875 0 \nL 23.484375 0 \nz\n\" id=\"DejaVuSans-118\"/>\n    <path d=\"M 56.203125 29.59375 \nL 56.203125 25.203125 \nL 14.890625 25.203125 \nQ 15.484375 15.921875 20.484375 11.0625 \nQ 25.484375 6.203125 34.421875 6.203125 \nQ 39.59375 6.203125 44.453125 7.46875 \nQ 49.3125 8.734375 54.109375 11.28125 \nL 54.109375 2.78125 \nQ 49.265625 0.734375 44.1875 -0.34375 \nQ 39.109375 -1.421875 33.890625 -1.421875 \nQ 20.796875 -1.421875 13.15625 6.1875 \nQ 5.515625 13.8125 5.515625 26.8125 \nQ 5.515625 40.234375 12.765625 48.109375 \nQ 20.015625 56 32.328125 56 \nQ 43.359375 56 49.78125 48.890625 \nQ 56.203125 41.796875 56.203125 29.59375 \nz\nM 47.21875 32.234375 \nQ 47.125 39.59375 43.09375 43.984375 \nQ 39.0625 48.390625 32.421875 48.390625 \nQ 24.90625 48.390625 20.390625 44.140625 \nQ 15.875 39.890625 15.1875 32.171875 \nz\n\" id=\"DejaVuSans-101\"/>\n    <path id=\"DejaVuSans-32\"/>\n    <path d=\"M 32.171875 -5.078125 \nQ 28.375 -14.84375 24.75 -17.8125 \nQ 21.140625 -20.796875 15.09375 -20.796875 \nL 7.90625 -20.796875 \nL 7.90625 -13.28125 \nL 13.1875 -13.28125 \nQ 16.890625 -13.28125 18.9375 -11.515625 \nQ 21 -9.765625 23.484375 -3.21875 \nL 25.09375 0.875 \nL 2.984375 54.6875 \nL 12.5 54.6875 \nL 29.59375 11.921875 \nL 46.6875 54.6875 \nL 56.203125 54.6875 \nz\n\" id=\"DejaVuSans-121\"/>\n    <path d=\"M 8.5 21.578125 \nL 8.5 54.6875 \nL 17.484375 54.6875 \nL 17.484375 21.921875 \nQ 17.484375 14.15625 20.5 10.265625 \nQ 23.53125 6.390625 29.59375 6.390625 \nQ 36.859375 6.390625 41.078125 11.03125 \nQ 45.3125 15.671875 45.3125 23.6875 \nL 45.3125 54.6875 \nL 54.296875 54.6875 \nL 54.296875 0 \nL 45.3125 0 \nL 45.3125 8.40625 \nQ 42.046875 3.421875 37.71875 1 \nQ 33.40625 -1.421875 27.6875 -1.421875 \nQ 18.265625 -1.421875 13.375 4.4375 \nQ 8.5 10.296875 8.5 21.578125 \nz\nM 31.109375 56 \nz\n\" id=\"DejaVuSans-117\"/>\n    <path d=\"M 41.109375 46.296875 \nQ 39.59375 47.171875 37.8125 47.578125 \nQ 36.03125 48 33.890625 48 \nQ 26.265625 48 22.1875 43.046875 \nQ 18.109375 38.09375 18.109375 28.8125 \nL 18.109375 0 \nL 9.078125 0 \nL 9.078125 54.6875 \nL 18.109375 54.6875 \nL 18.109375 46.1875 \nQ 20.953125 51.171875 25.484375 53.578125 \nQ 30.03125 56 36.53125 56 \nQ 37.453125 56 38.578125 55.875 \nQ 39.703125 55.765625 41.0625 55.515625 \nz\n\" id=\"DejaVuSans-114\"/>\n    <path d=\"M 44.28125 53.078125 \nL 44.28125 44.578125 \nQ 40.484375 46.53125 36.375 47.5 \nQ 32.28125 48.484375 27.875 48.484375 \nQ 21.1875 48.484375 17.84375 46.4375 \nQ 14.5 44.390625 14.5 40.28125 \nQ 14.5 37.15625 16.890625 35.375 \nQ 19.28125 33.59375 26.515625 31.984375 \nL 29.59375 31.296875 \nQ 39.15625 29.25 43.1875 25.515625 \nQ 47.21875 21.78125 47.21875 15.09375 \nQ 47.21875 7.46875 41.1875 3.015625 \nQ 35.15625 -1.421875 24.609375 -1.421875 \nQ 20.21875 -1.421875 15.453125 -0.5625 \nQ 10.6875 0.296875 5.421875 2 \nL 5.421875 11.28125 \nQ 10.40625 8.6875 15.234375 7.390625 \nQ 20.0625 6.109375 24.8125 6.109375 \nQ 31.15625 6.109375 34.5625 8.28125 \nQ 37.984375 10.453125 37.984375 14.40625 \nQ 37.984375 18.0625 35.515625 20.015625 \nQ 33.0625 21.96875 24.703125 23.78125 \nL 21.578125 24.515625 \nQ 13.234375 26.265625 9.515625 29.90625 \nQ 5.8125 33.546875 5.8125 39.890625 \nQ 5.8125 47.609375 11.28125 51.796875 \nQ 16.75 56 26.8125 56 \nQ 31.78125 56 36.171875 55.265625 \nQ 40.578125 54.546875 44.28125 53.078125 \nz\n\" id=\"DejaVuSans-115\"/>\n    <path d=\"M 54.890625 33.015625 \nL 54.890625 0 \nL 45.90625 0 \nL 45.90625 32.71875 \nQ 45.90625 40.484375 42.875 44.328125 \nQ 39.84375 48.1875 33.796875 48.1875 \nQ 26.515625 48.1875 22.3125 43.546875 \nQ 18.109375 38.921875 18.109375 30.90625 \nL 18.109375 0 \nL 9.078125 0 \nL 9.078125 75.984375 \nL 18.109375 75.984375 \nL 18.109375 46.1875 \nQ 21.34375 51.125 25.703125 53.5625 \nQ 30.078125 56 35.796875 56 \nQ 45.21875 56 50.046875 50.171875 \nQ 54.890625 44.34375 54.890625 33.015625 \nz\n\" id=\"DejaVuSans-104\"/>\n    <path d=\"M 4.203125 54.6875 \nL 13.1875 54.6875 \nL 24.421875 12.015625 \nL 35.59375 54.6875 \nL 46.1875 54.6875 \nL 57.421875 12.015625 \nL 68.609375 54.6875 \nL 77.59375 54.6875 \nL 63.28125 0 \nL 52.6875 0 \nL 40.921875 44.828125 \nL 29.109375 0 \nL 18.5 0 \nz\n\" id=\"DejaVuSans-119\"/>\n    <path d=\"M 9.421875 54.6875 \nL 18.40625 54.6875 \nL 18.40625 -0.984375 \nQ 18.40625 -11.421875 14.421875 -16.109375 \nQ 10.453125 -20.796875 1.609375 -20.796875 \nL -1.8125 -20.796875 \nL -1.8125 -13.1875 \nL 0.59375 -13.1875 \nQ 5.71875 -13.1875 7.5625 -10.8125 \nQ 9.421875 -8.453125 9.421875 -0.984375 \nz\nM 9.421875 75.984375 \nL 18.40625 75.984375 \nL 18.40625 64.59375 \nL 9.421875 64.59375 \nz\n\" id=\"DejaVuSans-106\"/>\n    <path d=\"M 18.3125 70.21875 \nL 18.3125 54.6875 \nL 36.8125 54.6875 \nL 36.8125 47.703125 \nL 18.3125 47.703125 \nL 18.3125 18.015625 \nQ 18.3125 11.328125 20.140625 9.421875 \nQ 21.96875 7.515625 27.59375 7.515625 \nL 36.8125 7.515625 \nL 36.8125 0 \nL 27.59375 0 \nQ 17.1875 0 13.234375 3.875 \nQ 9.28125 7.765625 9.28125 18.015625 \nL 9.28125 47.703125 \nL 2.6875 47.703125 \nL 2.6875 54.6875 \nL 9.28125 54.6875 \nL 9.28125 70.21875 \nz\n\" id=\"DejaVuSans-116\"/>\n    <path d=\"M 9.421875 54.6875 \nL 18.40625 54.6875 \nL 18.40625 0 \nL 9.421875 0 \nz\nM 9.421875 75.984375 \nL 18.40625 75.984375 \nL 18.40625 64.59375 \nL 9.421875 64.59375 \nz\n\" id=\"DejaVuSans-105\"/>\n    <path d=\"M 34.28125 27.484375 \nQ 23.390625 27.484375 19.1875 25 \nQ 14.984375 22.515625 14.984375 16.5 \nQ 14.984375 11.71875 18.140625 8.90625 \nQ 21.296875 6.109375 26.703125 6.109375 \nQ 34.1875 6.109375 38.703125 11.40625 \nQ 43.21875 16.703125 43.21875 25.484375 \nL 43.21875 27.484375 \nz\nM 52.203125 31.203125 \nL 52.203125 0 \nL 43.21875 0 \nL 43.21875 8.296875 \nQ 40.140625 3.328125 35.546875 0.953125 \nQ 30.953125 -1.421875 24.3125 -1.421875 \nQ 15.921875 -1.421875 10.953125 3.296875 \nQ 6 8.015625 6 15.921875 \nQ 6 25.140625 12.171875 29.828125 \nQ 18.359375 34.515625 30.609375 34.515625 \nL 43.21875 34.515625 \nL 43.21875 35.40625 \nQ 43.21875 41.609375 39.140625 45 \nQ 35.0625 48.390625 27.6875 48.390625 \nQ 23 48.390625 18.546875 47.265625 \nQ 14.109375 46.140625 10.015625 43.890625 \nL 10.015625 52.203125 \nQ 14.9375 54.109375 19.578125 55.046875 \nQ 24.21875 56 28.609375 56 \nQ 40.484375 56 46.34375 49.84375 \nQ 52.203125 43.703125 52.203125 31.203125 \nz\n\" id=\"DejaVuSans-97\"/>\n    <path d=\"M 45.40625 46.390625 \nL 45.40625 75.984375 \nL 54.390625 75.984375 \nL 54.390625 0 \nL 45.40625 0 \nL 45.40625 8.203125 \nQ 42.578125 3.328125 38.25 0.953125 \nQ 33.9375 -1.421875 27.875 -1.421875 \nQ 17.96875 -1.421875 11.734375 6.484375 \nQ 5.515625 14.40625 5.515625 27.296875 \nQ 5.515625 40.1875 11.734375 48.09375 \nQ 17.96875 56 27.875 56 \nQ 33.9375 56 38.25 53.625 \nQ 42.578125 51.265625 45.40625 46.390625 \nz\nM 14.796875 27.296875 \nQ 14.796875 17.390625 18.875 11.75 \nQ 22.953125 6.109375 30.078125 6.109375 \nQ 37.203125 6.109375 41.296875 11.75 \nQ 45.40625 17.390625 45.40625 27.296875 \nQ 45.40625 37.203125 41.296875 42.84375 \nQ 37.203125 48.484375 30.078125 48.484375 \nQ 22.953125 48.484375 18.875 42.84375 \nQ 14.796875 37.203125 14.796875 27.296875 \nz\n\" id=\"DejaVuSans-100\"/>\n    <path d=\"M 54.890625 33.015625 \nL 54.890625 0 \nL 45.90625 0 \nL 45.90625 32.71875 \nQ 45.90625 40.484375 42.875 44.328125 \nQ 39.84375 48.1875 33.796875 48.1875 \nQ 26.515625 48.1875 22.3125 43.546875 \nQ 18.109375 38.921875 18.109375 30.90625 \nL 18.109375 0 \nL 9.078125 0 \nL 9.078125 54.6875 \nL 18.109375 54.6875 \nL 18.109375 46.1875 \nQ 21.34375 51.125 25.703125 53.5625 \nQ 30.078125 56 35.796875 56 \nQ 45.21875 56 50.046875 50.171875 \nQ 54.890625 44.34375 54.890625 33.015625 \nz\n\" id=\"DejaVuSans-110\"/>\n    <path d=\"M 45.40625 27.984375 \nQ 45.40625 37.75 41.375 43.109375 \nQ 37.359375 48.484375 30.078125 48.484375 \nQ 22.859375 48.484375 18.828125 43.109375 \nQ 14.796875 37.75 14.796875 27.984375 \nQ 14.796875 18.265625 18.828125 12.890625 \nQ 22.859375 7.515625 30.078125 7.515625 \nQ 37.359375 7.515625 41.375 12.890625 \nQ 45.40625 18.265625 45.40625 27.984375 \nz\nM 54.390625 6.78125 \nQ 54.390625 -7.171875 48.1875 -13.984375 \nQ 42 -20.796875 29.203125 -20.796875 \nQ 24.46875 -20.796875 20.265625 -20.09375 \nQ 16.0625 -19.390625 12.109375 -17.921875 \nL 12.109375 -9.1875 \nQ 16.0625 -11.328125 19.921875 -12.34375 \nQ 23.78125 -13.375 27.78125 -13.375 \nQ 36.625 -13.375 41.015625 -8.765625 \nQ 45.40625 -4.15625 45.40625 5.171875 \nL 45.40625 9.625 \nQ 42.625 4.78125 38.28125 2.390625 \nQ 33.9375 0 27.875 0 \nQ 17.828125 0 11.671875 7.65625 \nQ 5.515625 15.328125 5.515625 27.984375 \nQ 5.515625 40.671875 11.671875 48.328125 \nQ 17.828125 56 27.875 56 \nQ 33.9375 56 38.28125 53.609375 \nQ 42.625 51.21875 45.40625 46.390625 \nL 45.40625 54.6875 \nL 54.390625 54.6875 \nz\n\" id=\"DejaVuSans-103\"/>\n    <path d=\"M 10.6875 12.40625 \nL 21 12.40625 \nL 21 0 \nL 10.6875 0 \nz\n\" id=\"DejaVuSans-46\"/>\n    <path d=\"M 9.078125 75.984375 \nL 18.109375 75.984375 \nL 18.109375 31.109375 \nL 44.921875 54.6875 \nL 56.390625 54.6875 \nL 27.390625 29.109375 \nL 57.625 0 \nL 45.90625 0 \nL 18.109375 26.703125 \nL 18.109375 0 \nL 9.078125 0 \nz\n\" id=\"DejaVuSans-107\"/>\n    <path d=\"M 3.328125 72.90625 \nL 13.28125 72.90625 \nL 28.609375 11.28125 \nL 43.890625 72.90625 \nL 54.984375 72.90625 \nL 70.3125 11.28125 \nL 85.59375 72.90625 \nL 95.609375 72.90625 \nL 77.296875 0 \nL 64.890625 0 \nL 49.515625 63.28125 \nL 33.984375 0 \nL 21.578125 0 \nz\n\" id=\"DejaVuSans-87\"/>\n    <path d=\"M 52 44.1875 \nQ 55.375 50.25 60.0625 53.125 \nQ 64.75 56 71.09375 56 \nQ 79.640625 56 84.28125 50.015625 \nQ 88.921875 44.046875 88.921875 33.015625 \nL 88.921875 0 \nL 79.890625 0 \nL 79.890625 32.71875 \nQ 79.890625 40.578125 77.09375 44.375 \nQ 74.3125 48.1875 68.609375 48.1875 \nQ 61.625 48.1875 57.5625 43.546875 \nQ 53.515625 38.921875 53.515625 30.90625 \nL 53.515625 0 \nL 44.484375 0 \nL 44.484375 32.71875 \nQ 44.484375 40.625 41.703125 44.40625 \nQ 38.921875 48.1875 33.109375 48.1875 \nQ 26.21875 48.1875 22.15625 43.53125 \nQ 18.109375 38.875 18.109375 30.90625 \nL 18.109375 0 \nL 9.078125 0 \nL 9.078125 54.6875 \nL 18.109375 54.6875 \nL 18.109375 46.1875 \nQ 21.1875 51.21875 25.484375 53.609375 \nQ 29.78125 56 35.6875 56 \nQ 41.65625 56 45.828125 52.96875 \nQ 50 49.953125 52 44.1875 \nz\n\" id=\"DejaVuSans-109\"/>\n    <path d=\"M 48.78125 52.59375 \nL 48.78125 44.1875 \nQ 44.96875 46.296875 41.140625 47.34375 \nQ 37.3125 48.390625 33.40625 48.390625 \nQ 24.65625 48.390625 19.8125 42.84375 \nQ 14.984375 37.3125 14.984375 27.296875 \nQ 14.984375 17.28125 19.8125 11.734375 \nQ 24.65625 6.203125 33.40625 6.203125 \nQ 37.3125 6.203125 41.140625 7.25 \nQ 44.96875 8.296875 48.78125 10.40625 \nL 48.78125 2.09375 \nQ 45.015625 0.34375 40.984375 -0.53125 \nQ 36.96875 -1.421875 32.421875 -1.421875 \nQ 20.0625 -1.421875 12.78125 6.34375 \nQ 5.515625 14.109375 5.515625 27.296875 \nQ 5.515625 40.671875 12.859375 48.328125 \nQ 20.21875 56 33.015625 56 \nQ 37.15625 56 41.109375 55.140625 \nQ 45.0625 54.296875 48.78125 52.59375 \nz\n\" id=\"DejaVuSans-99\"/>\n    <path d=\"M 18.109375 8.203125 \nL 18.109375 -20.796875 \nL 9.078125 -20.796875 \nL 9.078125 54.6875 \nL 18.109375 54.6875 \nL 18.109375 46.390625 \nQ 20.953125 51.265625 25.265625 53.625 \nQ 29.59375 56 35.59375 56 \nQ 45.5625 56 51.78125 48.09375 \nQ 58.015625 40.1875 58.015625 27.296875 \nQ 58.015625 14.40625 51.78125 6.484375 \nQ 45.5625 -1.421875 35.59375 -1.421875 \nQ 29.59375 -1.421875 25.265625 0.953125 \nQ 20.953125 3.328125 18.109375 8.203125 \nz\nM 48.6875 27.296875 \nQ 48.6875 37.203125 44.609375 42.84375 \nQ 40.53125 48.484375 33.40625 48.484375 \nQ 26.265625 48.484375 22.1875 42.84375 \nQ 18.109375 37.203125 18.109375 27.296875 \nQ 18.109375 17.390625 22.1875 11.75 \nQ 26.265625 6.109375 33.40625 6.109375 \nQ 40.53125 6.109375 44.609375 11.75 \nQ 48.6875 17.390625 48.6875 27.296875 \nz\n\" id=\"DejaVuSans-112\"/>\n    <path d=\"M 37.109375 75.984375 \nL 37.109375 68.5 \nL 28.515625 68.5 \nQ 23.6875 68.5 21.796875 66.546875 \nQ 19.921875 64.59375 19.921875 59.515625 \nL 19.921875 54.6875 \nL 34.71875 54.6875 \nL 34.71875 47.703125 \nL 19.921875 47.703125 \nL 19.921875 0 \nL 10.890625 0 \nL 10.890625 47.703125 \nL 2.296875 47.703125 \nL 2.296875 54.6875 \nL 10.890625 54.6875 \nL 10.890625 58.5 \nQ 10.890625 67.625 15.140625 71.796875 \nQ 19.390625 75.984375 28.609375 75.984375 \nz\n\" id=\"DejaVuSans-102\"/>\n    <path d=\"M 11.71875 12.40625 \nL 22.015625 12.40625 \nL 22.015625 0 \nL 11.71875 0 \nz\nM 11.71875 51.703125 \nL 22.015625 51.703125 \nL 22.015625 39.3125 \nL 11.71875 39.3125 \nz\n\" id=\"DejaVuSans-58\"/>\n    <path d=\"M 8.015625 75.875 \nL 15.828125 75.875 \nQ 23.140625 64.359375 26.78125 53.3125 \nQ 30.421875 42.28125 30.421875 31.390625 \nQ 30.421875 20.453125 26.78125 9.375 \nQ 23.140625 -1.703125 15.828125 -13.1875 \nL 8.015625 -13.1875 \nQ 14.5 -2 17.703125 9.0625 \nQ 20.90625 20.125 20.90625 31.390625 \nQ 20.90625 42.671875 17.703125 53.65625 \nQ 14.5 64.65625 8.015625 75.875 \nz\n\" id=\"DejaVuSans-41\"/>\n    <path d=\"M 64.40625 67.28125 \nL 64.40625 56.890625 \nQ 59.421875 61.53125 53.78125 63.8125 \nQ 48.140625 66.109375 41.796875 66.109375 \nQ 29.296875 66.109375 22.65625 58.46875 \nQ 16.015625 50.828125 16.015625 36.375 \nQ 16.015625 21.96875 22.65625 14.328125 \nQ 29.296875 6.6875 41.796875 6.6875 \nQ 48.140625 6.6875 53.78125 8.984375 \nQ 59.421875 11.28125 64.40625 15.921875 \nL 64.40625 5.609375 \nQ 59.234375 2.09375 53.4375 0.328125 \nQ 47.65625 -1.421875 41.21875 -1.421875 \nQ 24.65625 -1.421875 15.125 8.703125 \nQ 5.609375 18.84375 5.609375 36.375 \nQ 5.609375 53.953125 15.125 64.078125 \nQ 24.65625 74.21875 41.21875 74.21875 \nQ 47.75 74.21875 53.53125 72.484375 \nQ 59.328125 70.75 64.40625 67.28125 \nz\n\" id=\"DejaVuSans-67\"/>\n    <path d=\"M 48.6875 27.296875 \nQ 48.6875 37.203125 44.609375 42.84375 \nQ 40.53125 48.484375 33.40625 48.484375 \nQ 26.265625 48.484375 22.1875 42.84375 \nQ 18.109375 37.203125 18.109375 27.296875 \nQ 18.109375 17.390625 22.1875 11.75 \nQ 26.265625 6.109375 33.40625 6.109375 \nQ 40.53125 6.109375 44.609375 11.75 \nQ 48.6875 17.390625 48.6875 27.296875 \nz\nM 18.109375 46.390625 \nQ 20.953125 51.265625 25.265625 53.625 \nQ 29.59375 56 35.59375 56 \nQ 45.5625 56 51.78125 48.09375 \nQ 58.015625 40.1875 58.015625 27.296875 \nQ 58.015625 14.40625 51.78125 6.484375 \nQ 45.5625 -1.421875 35.59375 -1.421875 \nQ 29.59375 -1.421875 25.265625 0.953125 \nQ 20.953125 3.328125 18.109375 8.203125 \nL 18.109375 0 \nL 9.078125 0 \nL 9.078125 75.984375 \nL 18.109375 75.984375 \nz\n\" id=\"DejaVuSans-98\"/>\n    <path d=\"M 54.890625 54.6875 \nL 35.109375 28.078125 \nL 55.90625 0 \nL 45.3125 0 \nL 29.390625 21.484375 \nL 13.484375 0 \nL 2.875 0 \nL 24.125 28.609375 \nL 4.6875 54.6875 \nL 15.28125 54.6875 \nL 29.78125 35.203125 \nL 44.28125 54.6875 \nz\n\" id=\"DejaVuSans-120\"/>\n    <path d=\"M 15.09375 12.40625 \nL 25 12.40625 \nL 25 0 \nL 15.09375 0 \nz\nM 15.09375 72.90625 \nL 25 72.90625 \nL 25 40.921875 \nL 24.03125 23.484375 \nL 16.109375 23.484375 \nL 15.09375 40.921875 \nz\n\" id=\"DejaVuSans-33\"/>\n   </defs>\n   <g style=\"fill:#262626;\" transform=\"translate(7.2 18.14175)scale(0.144 -0.144)\">\n    <use xlink:href=\"#DejaVuSans-108\"/>\n    <use x=\"27.783203\" xlink:href=\"#DejaVuSans-111\"/>\n    <use x=\"88.964844\" xlink:href=\"#DejaVuSans-118\"/>\n    <use x=\"148.144531\" xlink:href=\"#DejaVuSans-101\"/>\n    <use x=\"209.667969\" xlink:href=\"#DejaVuSans-32\"/>\n    <use x=\"241.455078\" xlink:href=\"#DejaVuSans-121\"/>\n    <use x=\"300.634766\" xlink:href=\"#DejaVuSans-111\"/>\n    <use x=\"361.816406\" xlink:href=\"#DejaVuSans-117\"/>\n    <use x=\"425.195312\" xlink:href=\"#DejaVuSans-114\"/>\n    <use x=\"466.308594\" xlink:href=\"#DejaVuSans-32\"/>\n    <use x=\"498.095703\" xlink:href=\"#DejaVuSans-115\"/>\n    <use x=\"550.195312\" xlink:href=\"#DejaVuSans-104\"/>\n    <use x=\"613.574219\" xlink:href=\"#DejaVuSans-111\"/>\n    <use x=\"674.755859\" xlink:href=\"#DejaVuSans-119\"/>\n    <use x=\"756.542969\" xlink:href=\"#DejaVuSans-32\"/>\n    <use x=\"788.330078\" xlink:href=\"#DejaVuSans-106\"/>\n    <use x=\"816.113281\" xlink:href=\"#DejaVuSans-117\"/>\n    <use x=\"879.492188\" xlink:href=\"#DejaVuSans-115\"/>\n    <use x=\"931.591797\" xlink:href=\"#DejaVuSans-116\"/>\n    <use x=\"970.800781\" xlink:href=\"#DejaVuSans-32\"/>\n    <use x=\"1002.587891\" xlink:href=\"#DejaVuSans-119\"/>\n    <use x=\"1084.375\" xlink:href=\"#DejaVuSans-105\"/>\n    <use x=\"1112.158203\" xlink:href=\"#DejaVuSans-115\"/>\n    <use x=\"1164.257812\" xlink:href=\"#DejaVuSans-104\"/>\n    <use x=\"1227.636719\" xlink:href=\"#DejaVuSans-32\"/>\n    <use x=\"1259.423828\" xlink:href=\"#DejaVuSans-105\"/>\n    <use x=\"1287.207031\" xlink:href=\"#DejaVuSans-116\"/>\n    <use x=\"1326.416016\" xlink:href=\"#DejaVuSans-32\"/>\n    <use x=\"1358.203125\" xlink:href=\"#DejaVuSans-115\"/>\n    <use x=\"1410.302734\" xlink:href=\"#DejaVuSans-116\"/>\n    <use x=\"1449.511719\" xlink:href=\"#DejaVuSans-97\"/>\n    <use x=\"1510.791016\" xlink:href=\"#DejaVuSans-121\"/>\n    <use x=\"1569.970703\" xlink:href=\"#DejaVuSans-101\"/>\n    <use x=\"1631.494141\" xlink:href=\"#DejaVuSans-100\"/>\n    <use x=\"1694.970703\" xlink:href=\"#DejaVuSans-32\"/>\n    <use x=\"1726.757812\" xlink:href=\"#DejaVuSans-111\"/>\n    <use x=\"1787.939453\" xlink:href=\"#DejaVuSans-110\"/>\n    <use x=\"1851.318359\" xlink:href=\"#DejaVuSans-32\"/>\n    <use x=\"1883.105469\" xlink:href=\"#DejaVuSans-108\"/>\n    <use x=\"1910.888672\" xlink:href=\"#DejaVuSans-111\"/>\n    <use x=\"1972.070312\" xlink:href=\"#DejaVuSans-110\"/>\n    <use x=\"2035.449219\" xlink:href=\"#DejaVuSans-103\"/>\n    <use x=\"2098.925781\" xlink:href=\"#DejaVuSans-101\"/>\n    <use x=\"2160.449219\" xlink:href=\"#DejaVuSans-114\"/>\n    <use x=\"2201.5625\" xlink:href=\"#DejaVuSans-32\"/>\n    <use x=\"2233.349609\" xlink:href=\"#DejaVuSans-121\"/>\n    <use x=\"2292.529297\" xlink:href=\"#DejaVuSans-101\"/>\n    <use x=\"2354.052734\" xlink:href=\"#DejaVuSans-115\"/>\n    <use x=\"2406.152344\" xlink:href=\"#DejaVuSans-32\"/>\n    <use x=\"2437.939453\" xlink:href=\"#DejaVuSans-46\"/>\n    <use x=\"2469.726562\" xlink:href=\"#DejaVuSans-46\"/>\n    <use x=\"2501.513672\" xlink:href=\"#DejaVuSans-46\"/>\n    <use x=\"2533.300781\" xlink:href=\"#DejaVuSans-32\"/>\n    <use x=\"2565.087891\" xlink:href=\"#DejaVuSans-116\"/>\n    <use x=\"2604.296875\" xlink:href=\"#DejaVuSans-104\"/>\n    <use x=\"2667.675781\" xlink:href=\"#DejaVuSans-97\"/>\n    <use x=\"2728.955078\" xlink:href=\"#DejaVuSans-116\"/>\n    <use x=\"2768.164062\" xlink:href=\"#DejaVuSans-32\"/>\n    <use x=\"2799.951172\" xlink:href=\"#DejaVuSans-115\"/>\n    <use x=\"2852.050781\" xlink:href=\"#DejaVuSans-104\"/>\n    <use x=\"2915.429688\" xlink:href=\"#DejaVuSans-105\"/>\n    <use x=\"2943.212891\" xlink:href=\"#DejaVuSans-116\"/>\n    <use x=\"2982.421875\" xlink:href=\"#DejaVuSans-32\"/>\n    <use x=\"3014.208984\" xlink:href=\"#DejaVuSans-105\"/>\n    <use x=\"3041.992188\" xlink:href=\"#DejaVuSans-115\"/>\n    <use x=\"3094.091797\" xlink:href=\"#DejaVuSans-32\"/>\n    <use x=\"3125.878906\" xlink:href=\"#DejaVuSans-97\"/>\n    <use x=\"3187.158203\" xlink:href=\"#DejaVuSans-32\"/>\n    <use x=\"3218.945312\" xlink:href=\"#DejaVuSans-106\"/>\n    <use x=\"3246.728516\" xlink:href=\"#DejaVuSans-111\"/>\n    <use x=\"3307.910156\" xlink:href=\"#DejaVuSans-107\"/>\n    <use x=\"3362.195312\" xlink:href=\"#DejaVuSans-101\"/>\n    <use x=\"3423.71875\" xlink:href=\"#DejaVuSans-32\"/>\n    <use x=\"3455.505859\" xlink:href=\"#DejaVuSans-87\"/>\n    <use x=\"3548.507812\" xlink:href=\"#DejaVuSans-101\"/>\n    <use x=\"3610.03125\" xlink:href=\"#DejaVuSans-32\"/>\n    <use x=\"3641.818359\" xlink:href=\"#DejaVuSans-109\"/>\n    <use x=\"3739.230469\" xlink:href=\"#DejaVuSans-105\"/>\n    <use x=\"3767.013672\" xlink:href=\"#DejaVuSans-103\"/>\n    <use x=\"3830.490234\" xlink:href=\"#DejaVuSans-104\"/>\n    <use x=\"3893.869141\" xlink:href=\"#DejaVuSans-116\"/>\n    <use x=\"3933.078125\" xlink:href=\"#DejaVuSans-32\"/>\n    <use x=\"3964.865234\" xlink:href=\"#DejaVuSans-97\"/>\n    <use x=\"4026.144531\" xlink:href=\"#DejaVuSans-99\"/>\n    <use x=\"4081.125\" xlink:href=\"#DejaVuSans-99\"/>\n    <use x=\"4136.105469\" xlink:href=\"#DejaVuSans-101\"/>\n    <use x=\"4197.628906\" xlink:href=\"#DejaVuSans-112\"/>\n    <use x=\"4261.105469\" xlink:href=\"#DejaVuSans-116\"/>\n    <use x=\"4300.314453\" xlink:href=\"#DejaVuSans-32\"/>\n    <use x=\"4332.101562\" xlink:href=\"#DejaVuSans-102\"/>\n    <use x=\"4367.306641\" xlink:href=\"#DejaVuSans-97\"/>\n    <use x=\"4428.585938\" xlink:href=\"#DejaVuSans-107\"/>\n    <use x=\"4482.871094\" xlink:href=\"#DejaVuSans-101\"/>\n    <use x=\"4544.394531\" xlink:href=\"#DejaVuSans-115\"/>\n    <use x=\"4596.494141\" xlink:href=\"#DejaVuSans-32\"/>\n    <use x=\"4628.28125\" xlink:href=\"#DejaVuSans-58\"/>\n    <use x=\"4661.972656\" xlink:href=\"#DejaVuSans-32\"/>\n    <use x=\"4693.759766\" xlink:href=\"#DejaVuSans-41\"/>\n    <use x=\"4732.773438\" xlink:href=\"#DejaVuSans-32\"/>\n    <use x=\"4764.560547\" xlink:href=\"#DejaVuSans-67\"/>\n    <use x=\"4834.384766\" xlink:href=\"#DejaVuSans-111\"/>\n    <use x=\"4895.566406\" xlink:href=\"#DejaVuSans-109\"/>\n    <use x=\"4992.978516\" xlink:href=\"#DejaVuSans-101\"/>\n    <use x=\"5054.501953\" xlink:href=\"#DejaVuSans-32\"/>\n    <use x=\"5086.289062\" xlink:href=\"#DejaVuSans-98\"/>\n    <use x=\"5149.765625\" xlink:href=\"#DejaVuSans-121\"/>\n    <use x=\"5208.945312\" xlink:href=\"#DejaVuSans-32\"/>\n    <use x=\"5240.732422\" xlink:href=\"#DejaVuSans-110\"/>\n    <use x=\"5304.111328\" xlink:href=\"#DejaVuSans-101\"/>\n    <use x=\"5363.884766\" xlink:href=\"#DejaVuSans-120\"/>\n    <use x=\"5423.064453\" xlink:href=\"#DejaVuSans-116\"/>\n    <use x=\"5462.273438\" xlink:href=\"#DejaVuSans-32\"/>\n    <use x=\"5494.060547\" xlink:href=\"#DejaVuSans-119\"/>\n    <use x=\"5575.847656\" xlink:href=\"#DejaVuSans-101\"/>\n    <use x=\"5637.371094\" xlink:href=\"#DejaVuSans-101\"/>\n    <use x=\"5698.894531\" xlink:href=\"#DejaVuSans-107\"/>\n    <use x=\"5756.804688\" xlink:href=\"#DejaVuSans-32\"/>\n    <use x=\"5788.591797\" xlink:href=\"#DejaVuSans-33\"/>\n   </g>\n  </g>\n </g>\n <defs>\n  <clipPath id=\"pb6e9933425\">\n   <rect height=\"217.44\" width=\"217.44\" x=\"323.535375\" y=\"36\"/>\n  </clipPath>\n </defs>\n</svg>\n",
      "image/png": "[encoded data removed]"
     },
     "metadata": {}
    }
   ],
   "source": [
    "def temp(n):\n",
    "    x = df_sample['wv_total'][n]\n",
    "    x = np.repeat(x,3)\n",
    "    x = (x - np.min(x)) /( np.max(x)-np.min(x) )\n",
    "    x = np.reshape(x,(10,10,3))\n",
    "    return [x,' '.join(df_sample['words'][n])]\n",
    "\n",
    "# fig, axs = plt.subplots(4,4)\n",
    "k=0\n",
    "for i in range(0,4):\n",
    "    for j in range (0,4):\n",
    "        res = temp(k)\n",
    "        # axs[i,j].imshow(res[0])\n",
    "        plt.imshow(res[0])\n",
    "        plt.suptitle(res[1])\n",
    "                # print()\n",
    "        # axs[i,j].set_axis_off()\n",
    "        k+=1\n",
    "        \n",
    ""
   ]
  },
  {
   "cell_type": "markdown",
   "metadata": {},
   "source": [
    "## Trying clustering\n",
    "### (Did not work. Too diverse)\n"
   ],
   "execution_count": null,
   "outputs": []
  },
  {
   "cell_type": "code",
   "execution_count": null,
   "metadata": {
    "tags": [
     "outputPrepend",
     "outputPrepend",
     "outputPrepend",
     "outputPrepend",
     "outputPrepend",
     "outputPrepend",
     "outputPrepend",
     "outputPrepend",
     "outputPrepend",
     "outputPrepend",
     "outputPrepend",
     "outputPrepend",
     "outputPrepend",
     "outputPrepend",
     "outputPrepend",
     "outputPrepend",
     "outputPrepend",
     "outputPrepend",
     "outputPrepend",
     "outputPrepend",
     "outputPrepend",
     "outputPrepend",
     "outputPrepend",
     "outputPrepend"
    ]
   },
   "outputs": [],
   "source": [
    "# km = KMeans(n_clusters = 50, verbose =None, max_iter = 4000)\n",
    "# x = np.array(df_sample['wv_total'])\n",
    "# x = np.array([np.array(x) for x in x])\n",
    "# clust = km.fit_predict(x)\n",
    "# df_sample['clust']= clust\n",
    "# df_sample.loc[df_sample['clust']==20]  "
   ]
  },
  {
   "cell_type": "markdown",
   "metadata": {},
   "source": [
    "### Trying to classify few tweets manually and then let the model take over\n"
   ],
   "execution_count": null,
   "outputs": []
  },
  {
   "cell_type": "markdown",
   "metadata": {},
   "source": [
    "## Searching for the word 'football' hoping to find tweets relating to football\n",
    "### findings:\n",
    "    - Data is highly imbalanced.  there are only about 119 tweets witht the word 'football' out of 100,000 tweets"
   ],
   "execution_count": null,
   "outputs": []
  },
  {
   "cell_type": "code",
   "execution_count": 95,
   "metadata": {},
   "outputs": [
    {
     "output_type": "execute_result",
     "data": {
      "text/plain": "          index                                              words  wordlen  \\\n290851  1436915  [dosa, mans, ``, vegan, drumsticks, '', are, I...        9   \n512037  2402021  [Ughh, at, least, its, a, way, to, give, away,...       65   \n669059   625933  [1st, visit, 2, an, Indian, grocery, store, &,...       16   \n803260  2465649  [If, you, 're, watching, the, Blazers, game, t...       67   \n\n                                                 wv_total  football  \n290851  [-0.35033, -4.3675528, -5.2937465, 1.786101, -...         1  \n512037  [75.14176, -79.63913, -9.1118355, 50.869694, -...         1  \n669059  [9.234588, -23.814045, -8.578273, 17.302423, -...         1  \n803260  [64.36417, -89.274185, -22.509005, 63.23993, 8...         1  ",
      "text/html": "<div>\n<style scoped>\n    .dataframe tbody tr th:only-of-type {\n        vertical-align: middle;\n    }\n\n    .dataframe tbody tr th {\n        vertical-align: top;\n    }\n\n    .dataframe thead th {\n        text-align: right;\n    }\n</style>\n<table border=\"1\" class=\"dataframe\">\n  <thead>\n    <tr style=\"text-align: right;\">\n      <th></th>\n      <th>index</th>\n      <th>words</th>\n      <th>wordlen</th>\n      <th>wv_total</th>\n      <th>football</th>\n    </tr>\n  </thead>\n  <tbody>\n    <tr>\n      <th>290851</th>\n      <td>1436915</td>\n      <td>[dosa, mans, ``, vegan, drumsticks, '', are, I...</td>\n      <td>9</td>\n      <td>[-0.35033, -4.3675528, -5.2937465, 1.786101, -...</td>\n      <td>1</td>\n    </tr>\n    <tr>\n      <th>512037</th>\n      <td>2402021</td>\n      <td>[Ughh, at, least, its, a, way, to, give, away,...</td>\n      <td>65</td>\n      <td>[75.14176, -79.63913, -9.1118355, 50.869694, -...</td>\n      <td>1</td>\n    </tr>\n    <tr>\n      <th>669059</th>\n      <td>625933</td>\n      <td>[1st, visit, 2, an, Indian, grocery, store, &amp;,...</td>\n      <td>16</td>\n      <td>[9.234588, -23.814045, -8.578273, 17.302423, -...</td>\n      <td>1</td>\n    </tr>\n    <tr>\n      <th>803260</th>\n      <td>2465649</td>\n      <td>[If, you, 're, watching, the, Blazers, game, t...</td>\n      <td>67</td>\n      <td>[64.36417, -89.274185, -22.509005, 63.23993, 8...</td>\n      <td>1</td>\n    </tr>\n  </tbody>\n</table>\n</div>"
     },
     "metadata": {},
     "execution_count": 95
    }
   ],
   "source": [
    "# %%time\n",
    "searchitems = ['dosa']\n",
    "i = [ (lambda wrds: any([wrd in searchitems for wrd in wrds]))(lin) for lin in df_sample['words']]\n",
    "df_sample['football'] = 0\n",
    "df_sample.loc[np.array(i),'football']=1\n",
    "df_sample.loc[df_sample['football']==1]"
   ]
  },
  {
   "cell_type": "code",
   "execution_count": 96,
   "metadata": {},
   "outputs": [],
   "source": [
    "temp1 = df_sample.loc[df_sample['football']==1]\n",
    "temp2 = df_sample.loc[df_sample['football']==0].sample(300)\n",
    "df_train = temp1.append(temp2)"
   ]
  },
  {
   "cell_type": "code",
   "execution_count": 97,
   "metadata": {},
   "outputs": [],
   "source": [
    "from keras.models import Sequential\n",
    "from keras.layers import Dense, Embedding, Dropout, Flatten\n",
    "model = Sequential()\n",
    "model.add(Dense(500,activation='relu', input_shape=(100,)))\n",
    "model.add(Dropout(.4))\n",
    "model.add(Dense(300, activation='relu'))\n",
    "model.add(Dropout(.4))\n",
    "model.add(Dense(2,activation='softmax'))\n",
    "model.compile(optimizer='adam', loss='categorical_crossentropy', metrics=['accuracy'])"
   ]
  },
  {
   "cell_type": "code",
   "execution_count": 98,
   "metadata": {},
   "outputs": [],
   "source": [
    "train_x = df_train.loc[:,'wv_total']\n",
    "train_x = np.array([np.array(x) for x in df_train.loc[:,'wv_total']])\n",
    "train_x.shape\n",
    "train_y = keras.utils.to_categorical(df_train.loc[:,'football'])\n",
    "train_y.shape\n",
    "h = model.fit(train_x, train_y, epochs=100,  validation_split = .2, verbose = 0)\n",
    "\n",
    "# model.fit?"
   ]
  },
  {
   "cell_type": "code",
   "execution_count": 99,
   "metadata": {
    "tags": [
     "outputPrepend"
    ]
   },
   "outputs": [
    {
     "output_type": "execute_result",
     "data": {
      "text/plain": "dict_keys(['val_loss', 'val_accuracy', 'loss', 'accuracy'])"
     },
     "metadata": {},
     "execution_count": 99
    }
   ],
   "source": [
    "h.history.keys()"
   ]
  },
  {
   "cell_type": "code",
   "execution_count": 100,
   "metadata": {},
   "outputs": [
    {
     "output_type": "stream",
     "name": "stdout",
     "text": "calculating the word length per row\ncalculating the bag of words vector total for each row\n"
    }
   ],
   "source": [
    "df_test = do_stuff_1( df.sample(100000))\n",
    "df_test\n",
    "\n",
    "test_x = np.array([np.array(x) for x in df_test.loc[:,'wv_total']])\n",
    "test_x.shape\n",
    "\n",
    "pred = model.predict(test_x)\n",
    "pred = np.round(pred)\n",
    "\n",
    "df_test['pred_football'] = np.argmax(pred,1)\n",
    "\n",
    "# df_sample['words'][10]"
   ]
  },
  {
   "cell_type": "code",
   "execution_count": 101,
   "metadata": {},
   "outputs": [
    {
     "output_type": "execute_result",
     "data": {
      "text/plain": "<IPython.core.display.HTML object>",
      "text/html": "<style>.left_aligned_df td { text-align: left; }</style><table border=\"1\" class=\"dataframe left_aligned_df\">\n  <thead>\n    <tr style=\"text-align: right;\">\n      <th></th>\n      <th>tweet</th>\n    </tr>\n  </thead>\n  <tbody>\n    <tr>\n      <th>0</th>\n      <td>Awesome vendors , swag bags , raffles , food trucks !</td>\n    </tr>\n    <tr>\n      <th>1</th>\n      <td>i pick up a fresh bottle 2morrow Im drank out Yeah I do love brunch !</td>\n    </tr>\n    <tr>\n      <th>2</th>\n      <td>Omelet for breakfast , veggie burger for lunch , and salad for dinner , most likely .</td>\n    </tr>\n    <tr>\n      <th>3</th>\n      <td>I am out of soap , tooth paste and shaving cream .</td>\n    </tr>\n    <tr>\n      <th>4</th>\n      <td>) , olive oil and Serrano ham ?</td>\n    </tr>\n    <tr>\n      <th>5</th>\n      <td>Fredo gets whacked at end of Godfather II. ” spoiler I am drinking and didnt Think ... Did Dining Out For Life for lunch , then went to Trader Joe 's , then bought books , then watched Bollywood videos and Band Baaja Baaraat .</td>\n    </tr>\n    <tr>\n      <th>6</th>\n      <td>I did enjoy your food today !</td>\n    </tr>\n    <tr>\n      <th>7</th>\n      <td>Turns out it was another sushi food truck that offers sushi burritos RT : Kudos to Hillary Clinton for Africa trip to highlight AGOA .</td>\n    </tr>\n    <tr>\n      <th>8</th>\n      <td># um I 'm telling mom ... Steak quesadillas with cotija &amp; colby jack and peche lambic ale .</td>\n    </tr>\n    <tr>\n      <th>9</th>\n      <td>( James Thurber ) we have beef on weck , sahlens hot dogs *best* , wings , chevatas chicken etc hope u got too eat good food.. talk tonight - # Seattle Arts &amp; Lectures !</td>\n    </tr>\n    <tr>\n      <th>10</th>\n      <td>Pasta and garlic bread for $ 3.49 or Goodfella pasta/meatballs/pop for $ 7.49 !</td>\n    </tr>\n    <tr>\n      <th>11</th>\n      <td>cc : Ate a huge turkey burger .</td>\n    </tr>\n    <tr>\n      <th>12</th>\n      <td>Ralph , thank you for stopping by and Happy Easter everybody .</td>\n    </tr>\n    <tr>\n      <th>13</th>\n      <td>Our sandwich cookies are vegan this weekend !</td>\n    </tr>\n    <tr>\n      <th>14</th>\n      <td>2 tote bags and a lunch bag !</td>\n    </tr>\n    <tr>\n      <th>15</th>\n      <td>We 're gunna miss you , MP , Skyler , and Will !</td>\n    </tr>\n    <tr>\n      <th>16</th>\n      <td>Incredible dinner and service , as always .</td>\n    </tr>\n    <tr>\n      <th>17</th>\n      <td>stood until we got to Baltimore , sitting now I 'm downstairs at AT &amp; T booth charging up .</td>\n    </tr>\n    <tr>\n      <th>18</th>\n      <td>Super surprised that I woke and went to the gym Pick up Shorty 's family platter for dinner tonight !</td>\n    </tr>\n    <tr>\n      <th>19</th>\n      <td>Escobar was cheap .</td>\n    </tr>\n    <tr>\n      <th>20</th>\n      <td>Also available for weddings and bar mitzvahs .</td>\n    </tr>\n    <tr>\n      <th>21</th>\n      <td>P &amp; G , # Olympics TOP partner , will give $ 1000 VISA gift card to each Mom of 800 Olympians to offset travel to # London .</td>\n    </tr>\n    <tr>\n      <th>22</th>\n      <td>Have to catch a train home tomorrow , so hope they 're done !</td>\n    </tr>\n    <tr>\n      <th>23</th>\n      <td>Food and drinks will be provided .</td>\n    </tr>\n    <tr>\n      <th>24</th>\n      <td>okay thank you : ) Culinary Crossroads runs until May 25 w/ delicious items like Serrano Ham and Melon Salad , Shrimp and Fava Beans &amp; Weiner Schnitzel Me to !</td>\n    </tr>\n    <tr>\n      <th>25</th>\n      <td>Their scouts r phenomenal and Danny green is where I hoped roddy would be by now .</td>\n    </tr>\n    <tr>\n      <th>26</th>\n      <td>Specials for twitter friends on drinks and bottle service !</td>\n    </tr>\n    <tr>\n      <th>27</th>\n      <td>Good things to eat include nuts , seeds , pear , lotus root , and pumpkin Yum !</td>\n    </tr>\n    <tr>\n      <th>28</th>\n      <td>Comfort food dinner with the kids and grand kids .</td>\n    </tr>\n    <tr>\n      <th>29</th>\n      <td>: ) Sorry I 'm in Mojave desert do n't get good reception we 're shooting right now 4th night sleepy : ( Better to drink gasoline than eat Arby 's curly fries .</td>\n    </tr>\n    <tr>\n      <th>30</th>\n      <td>I 'll buy coffee , but you might have to hop a flight to Ist for it .</td>\n    </tr>\n    <tr>\n      <th>31</th>\n      <td>Rolling w an Irish Saturday ... “ Bangers and Mash ” Omelet- Irish Style Sausage , Cheddar , Mashed Potatoes , Caramelized Onion and Jameson Cheese t ( -.-t ) Mayweather ... Cotto still fought good !</td>\n    </tr>\n    <tr>\n      <th>32</th>\n      <td>you 're so sweet for remembering .</td>\n    </tr>\n    <tr>\n      <th>33</th>\n      <td>ordered the 'British Burger ' and asked for extra British , server was n't amused .</td>\n    </tr>\n    <tr>\n      <th>34</th>\n      <td>My sisters are delusional they went shopping while i was at work and bought 11pairs of shoes .</td>\n    </tr>\n    <tr>\n      <th>35</th>\n      <td>Also , kahlua cake all to myself .</td>\n    </tr>\n    <tr>\n      <th>36</th>\n      <td>Rye bread eaters are less hungry after 8 hours than wheat eaters are , Swedish researchers say !</td>\n    </tr>\n    <tr>\n      <th>37</th>\n      <td>! , say hi to you 're son .</td>\n    </tr>\n    <tr>\n      <th>38</th>\n      <td>If you 're not coming to the wine tasting tomorrow , come to Amerigo at around 8:30 for some fine afterparty fellowshipping , Booze Camp style .</td>\n    </tr>\n    <tr>\n      <th>39</th>\n      <td>- are you drinking tonight ?</td>\n    </tr>\n    <tr>\n      <th>40</th>\n      <td>But I also ate king cake 2day and was feeling prideful .</td>\n    </tr>\n    <tr>\n      <th>41</th>\n      <td>Ask albie and dean , I 'm really harmless ; ) home made chorizo , pork belly , bacon and taso ham is in the mix !</td>\n    </tr>\n    <tr>\n      <th>42</th>\n      <td>I 'm home 2nd weekend in may .</td>\n    </tr>\n    <tr>\n      <th>43</th>\n      <td>If you 're lucky , you might get a possible guest appearance by yours truly .</td>\n    </tr>\n    <tr>\n      <th>44</th>\n      <td>Now I 'm off to Kelly 's , Revere Beach to get ice cream .</td>\n    </tr>\n    <tr>\n      <th>45</th>\n      <td>Finished digging out the car , had second breakfast , reading Plato , when 's nap-time ?</td>\n    </tr>\n    <tr>\n      <th>46</th>\n      <td>we 're all hungover and at brunch ACT tomorrow..need to be comfortable..</td>\n    </tr>\n    <tr>\n      <th>47</th>\n      <td>Workers food .</td>\n    </tr>\n    <tr>\n      <th>48</th>\n      <td>Vegan sausage , pepper jack grilled cheese , and pasta .</td>\n    </tr>\n    <tr>\n      <th>49</th>\n      <td>Lean cuisines for lunch and no beer for 30 days .</td>\n    </tr>\n    <tr>\n      <th>50</th>\n      <td>Manicure , walk over to PNC park , or go jeans shopping ?</td>\n    </tr>\n    <tr>\n      <th>51</th>\n      <td>With cheese sauce .</td>\n    </tr>\n    <tr>\n      <th>52</th>\n      <td>Everything feels so weird between us : ( Mexican food for breakfast ?</td>\n    </tr>\n    <tr>\n      <th>53</th>\n      <td>I went through a dozen yesterday alone , and I 'm only cooking for 2 !</td>\n    </tr>\n    <tr>\n      <th>54</th>\n      <td>RT : Hey # sportsbiz , if you 're not joining # sbchat on Sun nights , you 're missing out .</td>\n    </tr>\n    <tr>\n      <th>55</th>\n      <td>Hi Have you started offering vegan cheese ?</td>\n    </tr>\n    <tr>\n      <th>56</th>\n      <td>Californos menu features Roasted Red Pepper Hummous for $ 8 , served with grilled squash and zucchini , red onion , carrot , celery , hot Sarachi !</td>\n    </tr>\n    <tr>\n      <th>57</th>\n      <td>Chip tha ripper at altar bar April 12 Do n't forget to stop by to get 2 , 1- topping slices for $ 5 .</td>\n    </tr>\n    <tr>\n      <th>58</th>\n      <td>Bottom line Studio with and Yes , brand cream cheese and sour cream make yummy non-dairy ( parve ) faux cheese cakes .</td>\n    </tr>\n    <tr>\n      <th>59</th>\n      <td>$ 5 vintage cocktail beam &amp; ginger ale rye whiskey coke !</td>\n    </tr>\n    <tr>\n      <th>60</th>\n      <td>I had lunch before 4pm !</td>\n    </tr>\n    <tr>\n      <th>61</th>\n      <td>I 'm sleepy &amp; &amp; hungry now ! !</td>\n    </tr>\n    <tr>\n      <th>62</th>\n      <td>Now I 'm hungry with no food .</td>\n    </tr>\n    <tr>\n      <th>63</th>\n      <td>Rarely eat @ IHop Today 's visit on St. Pete Beach confirmed it will now be never Boys pancakes uncooked Brown lettuce Extremely dirty etc I miss your amazing baking !</td>\n    </tr>\n    <tr>\n      <th>64</th>\n      <td>*True* Let 's please keep Romney from becoming president Easy chicken salad : 2 cooked chk breasts , shredded ; 1/3 cup plain Greek yogurt ; 2 TB mustard , S &amp; P , halved grapes , chopped celery Where will you be on SATURDAY , MAY 14 , 2011 ?</td>\n    </tr>\n    <tr>\n      <th>65</th>\n      <td>All she drank was water and eat crackers .</td>\n    </tr>\n    <tr>\n      <th>66</th>\n      <td>Dr. Martin Luther King I had to pick new flights ( there were no convenient ones ) so I 'm now flying from Dulles instead of Bmore .</td>\n    </tr>\n    <tr>\n      <th>67</th>\n      <td>and eating homemade guac .</td>\n    </tr>\n    <tr>\n      <th>68</th>\n      <td>Have a great run and then enjoy the tacos , pizza , and brews !</td>\n    </tr>\n    <tr>\n      <th>69</th>\n      <td>Haha I love local beer and good food and great conversations with good friends !</td>\n    </tr>\n    <tr>\n      <th>70</th>\n      <td>Would only cost like $ 38.. “ : CC Broiler and Shakes Pizza leftover lunch , they should hook up &amp; build a steak &amp; pizza combo Thanks for the # FF , always appreciated .</td>\n    </tr>\n    <tr>\n      <th>71</th>\n      <td>Drink , drink , club .</td>\n    </tr>\n    <tr>\n      <th>72</th>\n      <td>Want to do noon &amp; meet for lunch ?</td>\n    </tr>\n    <tr>\n      <th>73</th>\n      <td>Games , hot dogs , everything ?</td>\n    </tr>\n    <tr>\n      <th>74</th>\n      <td>( : What restaurant delivers tomato soup ?</td>\n    </tr>\n    <tr>\n      <th>75</th>\n      <td>Run , walk , or crawl to Bliffert Hardware for plinko and free beer !</td>\n    </tr>\n    <tr>\n      <th>76</th>\n      <td>Mama 's serving up some hot falafel until 9:30 p.m. stop by for a healthy , late night snack/dinner .</td>\n    </tr>\n    <tr>\n      <th>77</th>\n      <td>So far today we 've built castles , made snickerdoodles , made special '' crafty '' book , cleaned bedrooms , did dishes .</td>\n    </tr>\n    <tr>\n      <th>78</th>\n      <td>oh yea , I could eat four bags of sour gummy worms or sour patch kids in a sitting easily Lunchtime panel on southern foods , small farms , organic cakes , and cookbooks .</td>\n    </tr>\n    <tr>\n      <th>79</th>\n      <td>Patron wanted to know when we 're hiring .</td>\n    </tr>\n    <tr>\n      <th>80</th>\n      <td>I can do the soy protein but no cheese ?</td>\n    </tr>\n    <tr>\n      <th>81</th>\n      <td>I was wondering when are u visiting chicago ?</td>\n    </tr>\n    <tr>\n      <th>82</th>\n      <td>Today at lunch and I were given maple syrup with our sweet potato fries !</td>\n    </tr>\n    <tr>\n      <th>83</th>\n      <td>Eating some chicken ramen noodles .</td>\n    </tr>\n    <tr>\n      <th>84</th>\n      <td>beer batter , dipped onion rings ?</td>\n    </tr>\n    <tr>\n      <th>85</th>\n      <td>Apple , Strawberry , KALE , Flaxseed , orange and celery VERY yummy !</td>\n    </tr>\n    <tr>\n      <th>86</th>\n      <td>: ) Roses are red , Violets are blue , here 's 20 % off our Valentine 's Picks just for you !</td>\n    </tr>\n    <tr>\n      <th>87</th>\n      <td>RT : 's drinks are a-maz-ing !</td>\n    </tr>\n    <tr>\n      <th>88</th>\n      <td>BBDC offers specialty Halloween cocktails &amp; BOGO bottle service !</td>\n    </tr>\n    <tr>\n      <th>89</th>\n      <td>We were out of bananas , so I 'm eating a toasted peanut butter and apple sandwich and it 's actually pretty awesome .</td>\n    </tr>\n    <tr>\n      <th>90</th>\n      <td>If Texans stay healthy ( Especially Schaub , and Andre ) , they could very well win it all .</td>\n    </tr>\n    <tr>\n      <th>91</th>\n      <td>Do popcorn and beer count as dinner ?</td>\n    </tr>\n    <tr>\n      <th>92</th>\n      <td>Have to pay more $ $ to get passport expedited because I 'm an idiot .</td>\n    </tr>\n    <tr>\n      <th>93</th>\n      <td>Does anyone have a killer carrot cake cupcake &amp; cream cheese frosting # recipe ?</td>\n    </tr>\n    <tr>\n      <th>94</th>\n      <td>RT : Okay , off to anniversary dinner .</td>\n    </tr>\n    <tr>\n      <th>95</th>\n      <td>We 're at Bungalow if you 're done romancing .</td>\n    </tr>\n    <tr>\n      <th>96</th>\n      <td>: ) If you are struggling with your food allergy reactions , consider adding a comprehensive digestive enzyme to your food regime .</td>\n    </tr>\n    <tr>\n      <th>97</th>\n      <td>Yes , heard Epi Ad is being pulled , and they will modify , ( via our Doctor , via FAAN office ) I 'm exhausted .</td>\n    </tr>\n    <tr>\n      <th>98</th>\n      <td>Grilled veggies and quinoa make great pork chop side dishes for a healthy , balanced meal .</td>\n    </tr>\n    <tr>\n      <th>99</th>\n      <td>Take 5 days to wean yourself off sugar &amp; refined carbs by eating lots of fresh fruit and veggies instead .</td>\n    </tr>\n  </tbody>\n</table>"
     },
     "metadata": {},
     "execution_count": 101
    }
   ],
   "source": [
    "temp = df_test.loc[df_test['pred_football']==1,'words']\n",
    "temp = [' '.join(x).strip() for x in temp]\n",
    "css = '<style>.left_aligned_df td { text-align: left; }</style>'\n",
    "HTML(css + pd.DataFrame({'tweet':temp[100:200]}).to_html(classes='left_aligned_df'))\n",
    ""
   ]
  },
  {
   "cell_type": "code",
   "execution_count": 102,
   "metadata": {},
   "outputs": [
    {
     "output_type": "display_data",
     "data": {
      "text/plain": "'hello '"
     },
     "metadata": {}
    }
   ],
   "source": [
    "from ipywidgets import interact\n",
    "@interact\n",
    "def dostuff(inp = \"hello\", x=[1,2,3]):\n",
    "    return (inp + ' ')*x\n",
    "# "
   ]
  }
 ]
}